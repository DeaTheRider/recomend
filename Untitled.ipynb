{
 "cells": [
  {
   "cell_type": "markdown",
   "metadata": {},
   "source": [
    "\n",
    "- В чем принципиальные отличия item-item рекомендаций от ALS? \n",
    "- Приведите 3 примера весов user-item матрицы для задачи рекоммендаций товаров \n",
    "- Какие ограничения есть у ALS? (Тип информации, линейность/нелинейность факторов и т д) "
   ]
  },
  {
   "cell_type": "markdown",
   "metadata": {},
   "source": [
    "ALS - лишь способ оптимизации (поиска коэффициентов в эмбеддингах). Здесь значния переводятся в эмбединги. ALS намного быстрее item-item\n",
    "У item-item алгоритмов большая сложность predict ( 𝑂(𝐼2𝑙𝑜𝑔(𝐼))\n",
    "O\n",
    "(\n",
    "I\n",
    "2\n",
    "l\n",
    "o\n",
    "g\n",
    "(\n",
    "I\n",
    ")\n",
    ")\n",
    "  или  𝑂(𝐼3)\n",
    "O\n",
    "(\n",
    "I\n",
    "3\n",
    ")\n",
    "item-item использует knn"
   ]
  },
  {
   "cell_type": "markdown",
   "metadata": {},
   "source": [
    "2) Не уверен что правильно понял но допустим \n",
    "- Количество купленного товара\n",
    "б) Рейнтиг тов\n",
    "в) Полученная сумма прибыли\n",
    "г) Оставленные комментарии"
   ]
  },
  {
   "cell_type": "markdown",
   "metadata": {},
   "source": [
    "- Не учитывается сезонность, \n",
    "- Не учитывать фичи юзеров или товаров"
   ]
  },
  {
   "cell_type": "markdown",
   "metadata": {},
   "source": [
    "\n"
   ]
  },
  {
   "cell_type": "code",
   "execution_count": null,
   "metadata": {},
   "outputs": [],
   "source": []
  }
 ],
 "metadata": {
  "kernelspec": {
   "display_name": "Python 3",
   "language": "python",
   "name": "python3"
  },
  "language_info": {
   "codemirror_mode": {
    "name": "ipython",
    "version": 3
   },
   "file_extension": ".py",
   "mimetype": "text/x-python",
   "name": "python",
   "nbconvert_exporter": "python",
   "pygments_lexer": "ipython3",
   "version": "3.7.4"
  }
 },
 "nbformat": 4,
 "nbformat_minor": 2
}
